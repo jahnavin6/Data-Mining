{
 "cells": [
  {
   "cell_type": "markdown",
   "metadata": {},
   "source": [
    "# PA 2: Classification - Nearest Neighbors"
   ]
  },
  {
   "cell_type": "markdown",
   "metadata": {},
   "source": [
    "## Student Details (1 Point)\n",
    "\n",
    "First Student Name and ID: ABC 1001XXXXXX\n",
    "\n",
    "Second Student Name and ID: XYZ 1001XXXXXX\n",
    "\n",
    "\n",
    "\n",
    "Notes: When submitting, fill your name and ID in this cell.  [1 point]\n",
    "\n",
    "\n",
    "Do not to forget to cite any external sources used by you."
   ]
  },
  {
   "cell_type": "markdown",
   "metadata": {},
   "source": [
    "## Programming Assignment Submission Instructions (2 Points)\n",
    "\n",
    "Step 1: Rename this submission file as 'yourLastName_Last4digitsofyourID_DT.ipynb' [1 point]\n",
    "\n",
    "Step 2: Place this file inside the folder 'PA#2_Classification_yourLastName'  [1 point]\n",
    "\n",
    "Do not upload the database file [-20 points]\n"
   ]
  },
  {
   "cell_type": "markdown",
   "metadata": {},
   "source": [
    "## Programming Assignment Details (25 Points)\n",
    "\n",
    "For this assignment use Jupyter notebook, Panda, and scikit.\n",
    "* Load wine dataset from sklearn datasets. [1 points]\n",
    "* while selecting best 3 attributes for training and testing your model. [2 points]\n",
    "* Find the best K. [3 points]\n",
    "* Split your dataset 70% for training, and 30% for testing the classifier. [2 points]\n",
    "* Use Euclidean distance.[3 points]\n",
    "* Test the classifier with three diferent numbers for neighbors and record the results.[3 points]\n",
    "* Use comments to explain your code and variable names.[2 points]\n",
    "* Calculate and print the confusion matrix, and the classification Report (includes:precision, recall, f1-score, andsupport) for all three different numbers.[6 points]\n",
    "* Plot the classifier in a 2D projection.[3 points]"
   ]
  },
  {
   "cell_type": "markdown",
   "metadata": {},
   "source": [
    "# Report (22 Points)\n",
    "\n",
    "For each classification task you need to submit a report (Microsoft Word, or PDF) that you have to:\n",
    "* Describe the Nearest Neighbors method. [5 points]\n",
    "* Explain what was your criteria for selecting the three attributes. [7 points]\n",
    "* Visualizations of the classifier in a 2D projection, and write your observations. [5 points]\n",
    "* Interprete and compare the results.[5 points]\n",
    "\n",
    "Do not to forget to cite your sources!"
   ]
  },
  {
   "cell_type": "markdown",
   "metadata": {},
   "source": [
    "## <b>Please consult the TA before using any other packages apart from sklearn,numpy,pandas, matplotlib and seaborn<b>"
   ]
  }
 ],
 "metadata": {
  "kernelspec": {
   "display_name": "Python 3",
   "language": "python",
   "name": "python3"
  },
  "language_info": {
   "codemirror_mode": {
    "name": "ipython",
    "version": 3
   },
   "file_extension": ".py",
   "mimetype": "text/x-python",
   "name": "python",
   "nbconvert_exporter": "python",
   "pygments_lexer": "ipython3",
   "version": "3.7.0"
  }
 },
 "nbformat": 4,
 "nbformat_minor": 4
}
