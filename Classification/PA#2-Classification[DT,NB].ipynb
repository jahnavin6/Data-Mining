{
 "cells": [
  {
   "cell_type": "markdown",
   "metadata": {},
   "source": [
    "# PA 2: Classification - Decision Tree"
   ]
  },
  {
   "cell_type": "markdown",
   "metadata": {},
   "source": [
    "## Student Details (1 Point)\n",
    "\n",
    "First Student Name and ID: ABC 1001XXXXXX\n",
    "\n",
    "Second Student Name and ID: XYZ 1001XXXXXX\n",
    "\n",
    "\n",
    "\n",
    "Notes: When submitting, fill your name and ID in this cell.  [1 point]\n",
    "\n",
    "\n",
    "Do not to forget to cite any external sources used by you."
   ]
  },
  {
   "cell_type": "markdown",
   "metadata": {},
   "source": [
    "## Programming Assignment Submission Instructions (2 Points)\n",
    "\n",
    "Step 1: Rename this submission file as 'yourLastName_Last4digitsofyourID_DT.ipynb' [1 point]\n",
    "\n",
    "Step 2: Place this file inside the folder 'PA#2_Classification_yourLastName'  [1 point]\n",
    "\n",
    "Do not upload the database file [-20 points]\n"
   ]
  },
  {
   "cell_type": "markdown",
   "metadata": {},
   "source": [
    "## Programming Assignment Details (7 Points)\n",
    "\n",
    "\n",
    "For this assignment use Jupyter notebook, Panda, and scikit.\n",
    "\n",
    "1) Load Heart dataset from cardio_train.csv  [1 points]\n",
    "\n",
    "### Features:\n",
    "\n",
    "* Age | Objective Feature | age | int (days)\n",
    "* Height | Objective Feature | height | int (cm) |\n",
    "* Weight | Objective Feature | weight | float (kg) |\n",
    "* Gender | Objective Feature | gender | categorical code |\n",
    "* Systolic blood pressure | Examination Feature | ap_hi | int |\n",
    "* Diastolic blood pressure | Examination Feature | ap_lo | int |\n",
    "* Cholesterol | Examination Feature | cholesterol | 1: normal, 2: above normal, 3: well above normal |\n",
    "* Glucose | Examination Feature | gluc | 1: normal, 2: above normal, 3: well above normal |\n",
    "* Smoking | Subjective Feature | smoke | binary |\n",
    "* Alcohol intake | Subjective Feature | alco | binary |\n",
    "* Physical activity | Subjective Feature | active | binary |\n",
    "* Presence or absence of cardiovascular disease | Target Variable | cardio | binary |\n",
    "\n",
    "All of the dataset values were collected at the moment of medical examination.\n",
    "\n",
    "\n",
    "2) Create a dataframe and print the first and last five records of your dataset.  [2 points]\n",
    "\n",
    "3) Print the class labels.  [2 points]\n",
    "\n",
    "\n",
    "4) Split your dataset 70% for training, and 30% for testing the classifier.  [2 points]"
   ]
  },
  {
   "cell_type": "markdown",
   "metadata": {},
   "source": [
    "# DecisionTree (10 Points)\n",
    "1) Use gini and entropy to measure the quality of a split.  [2 points]\n",
    "\n",
    "\n",
    "2) Use comments to explain your code and variable names. [1 point]\n",
    "\n",
    "\n",
    "3) Calculate and print the confusion matrix (use graphics instead showing a 2D array), and the classification Report (includes: precision, recall, f1-score, and support. [2 points]\n",
    "\n",
    "\n",
    "4) Print the decision tree visualization.  [5 points]\n"
   ]
  },
  {
   "cell_type": "markdown",
   "metadata": {},
   "source": [
    "# Naive Bayes (10 Points)\n",
    "\n",
    "\n",
    "1) Use Naive bayes classifier (Gaussian) to predict the test data[5 point] \n",
    "\n",
    "\n",
    "2) Use comments to explain your code and variable names[1 point]\n",
    "\n",
    "\n",
    "3) Calculate and print the confusion matrix (use graphics instead showing a 2D array), and the classification Report (includes: precision, recall, f1-score, and support).  [4 points]"
   ]
  },
  {
   "cell_type": "markdown",
   "metadata": {},
   "source": [
    "## Report (20 Points)\n",
    "\n",
    "\n",
    "1) Describe the Decision Tree methods, and Naive Bayes classifier. Dont copy paste it from the internet. Write it on your own.  [4 points]\n",
    "\n",
    "\n",
    "2) Describe the datasets [3 points]  like what do you understand from the dataset? and if you have done any pre-processing , and your code, please write down your observation. [2 points]\n",
    "\n",
    "\n",
    "4) Visualization of the decision tree for gini and entropy.[4 points]\n",
    "\n",
    "5) Interpret your results, compare gini and entropy [3 points]\n",
    "\n",
    "6) Visualize the dataset, for the target variable - 2 graphs [4 points]\n",
    "\n",
    "Do not to forget to cite your sources!\n",
    "\n",
    "\n",
    "## Please consult the TA before using any other packages apart from sklearn,numpy,pandas, matplotlib and seaborn."
   ]
  }
 ],
 "metadata": {
  "kernelspec": {
   "display_name": "Python 3",
   "language": "python",
   "name": "python3"
  },
  "language_info": {
   "codemirror_mode": {
    "name": "ipython",
    "version": 3
   },
   "file_extension": ".py",
   "mimetype": "text/x-python",
   "name": "python",
   "nbconvert_exporter": "python",
   "pygments_lexer": "ipython3",
   "version": "3.7.0"
  }
 },
 "nbformat": 4,
 "nbformat_minor": 4
}
